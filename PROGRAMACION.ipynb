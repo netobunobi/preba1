{
 "cells": [
  {
   "cell_type": "markdown",
   "metadata": {},
   "source": [
    "# **LISTAS**"
   ]
  },
  {
   "cell_type": "code",
   "execution_count": 3,
   "metadata": {},
   "outputs": [],
   "source": [
    "lista = [2,3,4,5]"
   ]
  },
  {
   "cell_type": "code",
   "execution_count": 4,
   "metadata": {},
   "outputs": [
    {
     "data": {
      "text/plain": [
       "3"
      ]
     },
     "execution_count": 4,
     "metadata": {},
     "output_type": "execute_result"
    }
   ],
   "source": [
    "lista[1]"
   ]
  },
  {
   "cell_type": "code",
   "execution_count": 5,
   "metadata": {},
   "outputs": [],
   "source": [
    "lista.append(5)"
   ]
  },
  {
   "cell_type": "code",
   "execution_count": 6,
   "metadata": {},
   "outputs": [
    {
     "data": {
      "text/plain": [
       "[2, 3, 4, 5, 5]"
      ]
     },
     "execution_count": 6,
     "metadata": {},
     "output_type": "execute_result"
    }
   ],
   "source": [
    "lista"
   ]
  },
  {
   "cell_type": "code",
   "execution_count": 1,
   "metadata": {},
   "outputs": [
    {
     "name": "stdout",
     "output_type": "stream",
     "text": [
      "mi nombre es Ernesto tengo 17 años, mi comida favorita es mole poblano espero ganar 1500000 sheintabos (medianamente dios)\n"
     ]
    }
   ],
   "source": [
    "datos = [\"Ernesto\", 17, \"mole poblano\", 1500000]\n",
    "\n",
    "print(f\"mi nombre es {datos[0]} tengo {datos[1]} años, mi comida favorita es {datos[2]} espero ganar {datos[3]} sheintabos (medianamente dios)\")"
   ]
  },
  {
   "cell_type": "markdown",
   "metadata": {},
   "source": [
    "# **FUNCIONES**"
   ]
  },
  {
   "cell_type": "code",
   "execution_count": 22,
   "metadata": {},
   "outputs": [],
   "source": [
    "def resta(a,b):\n",
    "    return a-b"
   ]
  },
  {
   "cell_type": "code",
   "execution_count": 23,
   "metadata": {},
   "outputs": [
    {
     "data": {
      "text/plain": [
       "8"
      ]
     },
     "execution_count": 23,
     "metadata": {},
     "output_type": "execute_result"
    }
   ],
   "source": [
    "resta(12,4)"
   ]
  },
  {
   "cell_type": "code",
   "execution_count": 27,
   "metadata": {},
   "outputs": [],
   "source": [
    "def operaciones(a,b,c):\n",
    "    print(f\"la suma de {a}+{b} los numeros es: {a+b}\")\n",
    "    print(f\"la resta de {a}-{c} los numeros es: {a-c}\")\n",
    "    print(f\"la multiplicación de {a}x{c} los numeros es: {a*c}\")\n",
    "    print(f\"la divición de {b}/{c} los numeros es: {b/c}\")"
   ]
  },
  {
   "cell_type": "code",
   "execution_count": 28,
   "metadata": {},
   "outputs": [
    {
     "name": "stdout",
     "output_type": "stream",
     "text": [
      "la suma de 1+2 los numeros es: 3\n",
      "la resta de 1-3 los numeros es: -2\n",
      "la multiplicación de 1x3 los numeros es: 3\n",
      "la divición de 2/3 los numeros es: 0.6666666666666666\n"
     ]
    }
   ],
   "source": [
    "operaciones(1,2,3)"
   ]
  },
  {
   "cell_type": "markdown",
   "metadata": {},
   "source": [
    "# **CONDICIONALES**"
   ]
  },
  {
   "cell_type": "code",
   "execution_count": 1,
   "metadata": {},
   "outputs": [],
   "source": [
    "a=3"
   ]
  },
  {
   "cell_type": "code",
   "execution_count": 2,
   "metadata": {},
   "outputs": [
    {
     "name": "stdout",
     "output_type": "stream",
     "text": [
      "tu numero es igual a 3\n"
     ]
    }
   ],
   "source": [
    "if a==3:\n",
    "    print(\"tu numero es igual a 3\")"
   ]
  },
  {
   "cell_type": "code",
   "execution_count": 14,
   "metadata": {},
   "outputs": [
    {
     "name": "stdout",
     "output_type": "stream",
     "text": [
      "no tuviste suerte!\n"
     ]
    }
   ],
   "source": [
    "b = int(input(\"dame un numero\"))\n",
    "\n",
    "if b>7:\n",
    "    print(\"no tuviste suerte!\")\n",
    "elif b==7:\n",
    "    print(\"LE ATINASTEEEEEEEEEEEEEEEE!!!!!\")\n",
    "else:\n",
    "    print(\"error\")"
   ]
  },
  {
   "cell_type": "markdown",
   "metadata": {},
   "source": [
    "# **PROGRAMACION ORIENTADA A OBEJOS (POO)**"
   ]
  },
  {
   "cell_type": "markdown",
   "metadata": {},
   "source": [
    "**__init__** es un método especial que se utiliza para inicializar los atributos de un objeto cuando se crea una instancia de una clase. Se llama automáticamente cuando se crea una nueva instancia de la clase\n",
    "\n",
    "**self** es el primer argumento de los métodos de clase y se utiliza como una referencia al objeto mismo dentro de la clase. Permite acceder a los atributos y métodos del objeto dentro de la clase"
   ]
  },
  {
   "cell_type": "code",
   "execution_count": null,
   "metadata": {},
   "outputs": [
    {
     "name": "stdout",
     "output_type": "stream",
     "text": [
      "Mi perro tiene 28 años humanos\n"
     ]
    }
   ],
   "source": [
    "class perro:\n",
    "    def __init__(self, nombre, edad, raza, tamaño):\n",
    "        self.nombre =nombre\n",
    "        self.edad= edad\n",
    "        self.raza = raza\n",
    "        self.tamaño =tamaño\n",
    "    \n",
    "    def hablar(self):\n",
    "        print(f\"{self.nombre} dice guau guau\")\n",
    "    \n",
    "    def EdadHumana(self):\n",
    "        return self.edad*7\n",
    "    \n",
    "    def car(self):\n",
    "        print(f\"mi pero {self.nombre} tiene {self.edad} años, es de raza {self.raza} y mide {self.tamaño}\")\n",
    "\n",
    "mi_perro =perro(\"pepito\", 4, \"pomerian\", \"118 cm\")\n",
    "\n",
    "#mi_perro.hablar()\n",
    "#print(f\"la edad de {mi_perro.nombre} en años humanos es: {mi_perro.EdadHumana()}\")\n",
    "edadPerro = mi_perro.EdadHumana()\n",
    "print(f\"Mi perro tiene {edadPerro} años humanos\")"
   ]
  },
  {
   "cell_type": "markdown",
   "metadata": {},
   "source": [
    "# **Ejercicio de clase**"
   ]
  },
  {
   "cell_type": "markdown",
   "metadata": {},
   "source": [
    "1. Crea una clase llamada coche que tenga propiedades como marca, modelo, año y color.\n",
    "2. Crea un metodo llamado descripcion que imprima una descripcion del coche en el siguiente formato:\n",
    "    - \"Este coche es de color  [color]  de la marca [marca] y modelo [modelo] del año [año].\"\n",
    "\n",
    "3. Crea 4 obejos de la clase \"coche\" y llama al meodo \"descripcion\" para mostrar los detalles del coche:\n",
    "    - coche1 = ford Mustang 2020 azul\n",
    "    - coche2 = chevrolet camaro 2019 rojo\n",
    "    - coche3 = BMW X5 2022 negro\n",
    "    - coche4 = Audi A4 2021 blanco"
   ]
  },
  {
   "cell_type": "code",
   "execution_count": null,
   "metadata": {},
   "outputs": [
    {
     "name": "stdout",
     "output_type": "stream",
     "text": [
      "Este coche es de color azul de la marca ford y modelo Mustang del año 2020\n",
      "Este coche es de color rojo de la marca chevrolet y modelo camaro del año 2019\n",
      "Este coche es de color negro de la marca BMW y modelo X5 del año 2022\n",
      "Este coche es de color blanco de la marca Audi y modelo A4 del año 2021\n"
     ]
    }
   ],
   "source": [
    "class coche:\n",
    "\n",
    "    def __init__(self, marca, modelo, año, color):\n",
    "        self.marca = marca\n",
    "        self.modelo = modelo\n",
    "        self.año = año\n",
    "        self.color= color\n",
    "\n",
    "    def descripcion(self):\n",
    "        print(f\"Este coche es de color {self.color} de la marca {self.marca} y modelo {self.modelo} del año {self.año}\")\n",
    "\n",
    "coche1 = coche(\"ford\",\"Mustang\",2020, \"azul\")\n",
    "coche2 = coche(\"chevrolet\",\"camaro\",2019, \"rojo\")\n",
    "coche3 = coche(\"BMW\",\"X5\",2022, \"negro\")\n",
    "coche4 = coche(\"Audi\",\"A4\",2021, \"blanco\")\n",
    "\n",
    "coche1.descripcion()\n",
    "coche2.descripcion()\n",
    "coche3.descripcion()\n",
    "coche4.descripcion()\n"
   ]
  },
  {
   "cell_type": "markdown",
   "metadata": {},
   "source": [
    "# **EJEMPLO PRACTICO**"
   ]
  },
  {
   "cell_type": "code",
   "execution_count": 5,
   "metadata": {},
   "outputs": [
    {
     "name": "stdout",
     "output_type": "stream",
     "text": [
      "Bienvenido dueño\n",
      "Tu capacidad es de 256\n"
     ]
    }
   ],
   "source": [
    "class App():\n",
    "    def __init__(self, usuarios, capacidad, nombreusuarios):\n",
    "        self.usuarios = usuarios\n",
    "        self.capacidad = capacidad\n",
    "        self.nombreusuarios = nombreusuarios\n",
    "\n",
    "    def login(self):\n",
    "        if self.nombreusuarios == \"dueño\" and self.usuarios >=1:\n",
    "            print(f\"Bienvenido {self.nombreusuarios}\")\n",
    "            print(f\"Tu capacidad es de {self.capacidad}\")\n",
    "\n",
    "    def incrementar(self, numero):\n",
    "        self.capacidad+=numero\n",
    "        return self.capacidad\n",
    "        \n",
    "us1= App(35, 256, \"dueño\")\n",
    "us1.login()\n",
    "us1.incrementar(50)\n",
    "\n",
    "us2=App(40,245, \"Alan\")\n",
    "us2.login()"
   ]
  },
  {
   "cell_type": "markdown",
   "metadata": {},
   "source": [
    "# ***OTRO EJERCICIO* (mas complejo)**"
   ]
  },
  {
   "cell_type": "markdown",
   "metadata": {},
   "source": [
    "## **Enunciado: Sistema de Calificaciones**\n",
    "Eres encargado de diseñar un sistema de calificaciones para la materia de Programación Avanzada. Este sistema debe permitir registrar información de los estudiantes, sus calificaciones en diferentes actividades, calcular el promedio final y determinar si aprobaron o reprobaron el curso.\n",
    "\n",
    "### **Instrucciones**\n",
    "    1. Clase Alumno:\n",
    "        -Define una clase Alumno con los siguientes atributos:▪\n",
    "            -nombre: Nombre del estudiante.\n",
    "            -matricula: Matrícula del estudiante.\n",
    "            -calificaciones: Lista de calificaciones del estudiante en diferentes actividades.\n",
    "\n",
    "        -Métodos de la clase:\n",
    "            -agregar_calificacion(calificacion): Permite agregar una calificación a la lista de calificaciones del\n",
    "             estudiante.\n",
    "            -calcular_promedio(): Calcula el promedio de las calificaciones del estudiante.\n",
    "            -estado_final(): Determina si el estudiante aprobó o reprobó. La nota mínima para aprobar es 70.\n",
    "\n",
    "    2. Clase Grupo:\n",
    "\n",
    "        -Define una clase Grupo que gestione a varios estudiantes:\n",
    "            -nombre_grupo: Nombre del grupo.\n",
    "            -alumnos: Lista de objetos Alumno.\n",
    "            \n",
    "        -Métodos:\n",
    "            -agregar_alumno(alumno): Agrega un nuevo objeto Alumno al grupo.\n",
    "            -mostrar_promedios(): Muestra el promedio de cada estudiante y su estado final.\n",
    "            -mejor_alumno(): Muestra el estudiante con el promedio más alto.\n",
    "        \n",
    "\n"
   ]
  },
  {
   "cell_type": "code",
   "execution_count": 1,
   "metadata": {},
   "outputs": [
    {
     "name": "stdout",
     "output_type": "stream",
     "text": [
      "Curso: Algebra linal con aplicaciones: \n",
      "\n",
      "Nombre: piña, Promedio: 10.0, Estado: REPROBADO\n",
      "Nombre: neto, Promedio: 60.0, Estado: REPROBADO\n",
      "Nombre: juan, Promedio: 73.33333333333333, Estado: APROBADO\n",
      "\n",
      "el mejor/mejores promedio es:\n",
      "\n",
      "Nombre: juan (789) Promedio: 73.33333333333333\n"
     ]
    }
   ],
   "source": [
    "class alumno():\n",
    "    def __init__(self, nombre, matricula):\n",
    "        self.nombre = nombre\n",
    "        self.matricula = matricula\n",
    "        self.calificaciones = []\n",
    "        self.Estado = \"\"\n",
    "\n",
    "    def agregarCalificacion(self, nuevaCalificacion):\n",
    "        self.calificaciones.append(nuevaCalificacion)\n",
    "\n",
    "    def CalcularPromedio(self):\n",
    "        return sum(self.calificaciones)/len(self.calificaciones)\n",
    "    \n",
    "    def EstadoFinal(self):\n",
    "        if (sum(self.calificaciones)/len(self.calificaciones)) >= 70:\n",
    "            self.Estado = \"APROBADO\"\n",
    "        else:\n",
    "            self.Estado = \"REPROBADO\"\n",
    "        return self.Estado\n",
    "\n",
    "class grupo():\n",
    "    def __init__(self,GrupoName):\n",
    "        self.nombreGrupo = GrupoName\n",
    "        self.listaAlumnos=[]\n",
    "\n",
    "    def agregar_alumno(self,alumno):\n",
    "        self.listaAlumnos.append(alumno)\n",
    "\n",
    "    def mostrar_promedios(self):\n",
    "            print(f\"Curso: {self.nombreGrupo}: \\n\")\n",
    "            for alumnos in self.listaAlumnos:\n",
    "                print(f\"Nombre: {alumnos.nombre}, Promedio: {alumnos.CalcularPromedio()}, Estado: {alumnos.EstadoFinal()}\")\n",
    "    \n",
    "    def mejor_alumno(self):\n",
    "        print(\"\\nel mejor/mejores promedio es:\\n\")\n",
    "        nombreMejor = None\n",
    "        mejorProm=0\n",
    "        for alumno in self.listaAlumnos:\n",
    "            prom=alumno.CalcularPromedio()\n",
    "            if prom > mejorProm:\n",
    "                nombreMejor = alumno\n",
    "                mejorProm = prom\n",
    "            elif prom == mejorProm:\n",
    "                print(f\"Nombre: {alumno.nombre} ({alumno.matricula}) Promedio: {prom}\")\n",
    "        print(f\"Nombre: {nombreMejor.nombre} ({nombreMejor.matricula}) Promedio: {mejorProm}\")\n",
    "            \n",
    "\n",
    "\n",
    "piña=alumno(\"piña\", 123)\n",
    "piña.agregarCalificacion(100)\n",
    "piña.agregarCalificacion(100)\n",
    "piña.agregarCalificacion(100)\n",
    "\n",
    "neto=alumno(\"neto\", 456)\n",
    "neto.agregarCalificacion(80)\n",
    "neto.agregarCalificacion(90)\n",
    "neto.agregarCalificacion(10)\n",
    "\n",
    "\n",
    "juan=alumno(\"juan\", 789)\n",
    "juan.agregarCalificacion(90)\n",
    "juan.agregarCalificacion(90)\n",
    "juan.agregarCalificacion(40)\n",
    "\n",
    "ejemplo_mismo_promedio=alumno(\"ejemplo\", 159)\n",
    "ejemplo_mismo_promedio.agregarCalificacion(100)\n",
    "ejemplo_mismo_promedio.agregarCalificacion(100)\n",
    "ejemplo_mismo_promedio.agregarCalificacion(100)\n",
    "\n",
    "grupo1 = grupo(\"Algebra linal con aplicaciones\")\n",
    "\n",
    "grupo1.agregar_alumno(piña)\n",
    "grupo1.agregar_alumno(neto)\n",
    "grupo1.agregar_alumno(juan)\n",
    "grupo1.agregar_alumno(ejemplo_mismo_promedio)\n",
    "\n",
    "\n",
    "grupo1.mostrar_promedios()\n",
    "grupo1.mejor_alumno()\n"
   ]
  },
  {
   "cell_type": "markdown",
   "metadata": {},
   "source": [
    "# **SISTEMA DE RESERVAS PARA UN HOTEL**\n",
    "\n",
    "tipo se habitacion:\n",
    "sensillas\n",
    "dobles\n",
    "kingsize"
   ]
  },
  {
   "cell_type": "code",
   "execution_count": null,
   "metadata": {},
   "outputs": [
    {
     "name": "stdout",
     "output_type": "stream",
     "text": [
      "reserva para el huesped: Ernesto Veles Ortega en habitacion 594A de tipo doble del 2025-01-15 al 2025-01-18 Total: $450\n"
     ]
    }
   ],
   "source": [
    "from datetime import datetime\n",
    "class habitacion():\n",
    "    def __init__(self, numero, tipo, precio):\n",
    "        self.numero = numero\n",
    "        self.tipo = tipo\n",
    "        self.precio = precio\n",
    "        self.reservada = False\n",
    "\n",
    "    def descripcion(self):\n",
    "        print(f\"la habitacion {self.numero} es de tipo {self.tipo} y cuesta ${self.precio} por noche\")\n",
    "\n",
    "class reserva():\n",
    "    def __init__(self, huesped, habitacion, fechaInicio, FechaFin):\n",
    "        self.huesped = huesped\n",
    "        self.habitacion = habitacion\n",
    "        self.fechaInicio = fechaInicio\n",
    "        self.fechaFin = FechaFin\n",
    "\n",
    "    def calcular(self):\n",
    "        dias = (self.fechaFin.date()-self.fechaInicio.date()).days\n",
    "        return (((reserva1.habitacion).precio)*dias)\n",
    "\n",
    "    def detalle(self):\n",
    "        costo = self.calcular()\n",
    "        return(f\"reserva para el huesped: {self.huesped} \"\n",
    "               f\"en habitacion {(self.habitacion).numero} \"\n",
    "               f\"de tipo {(self.habitacion).tipo} \"\n",
    "               f\"del {self.fechaInicio.date()} \"\n",
    "               f\"al {self.fechaFin.date()} \"\n",
    "               f\"Total: ${costo}\")\n",
    "\n",
    "\n",
    "\n",
    "habitacion1 = habitacion(\"594A\", \"doble\", 150)\n",
    "\n",
    "reserva1=reserva(\"Ernesto Veles Ortega\", habitacion1 , datetime(2025, 1, 15), datetime(2025, 1, 18))\n",
    "\n",
    "print(reserva1.detalle())\n",
    "\n",
    "\n",
    "        "
   ]
  },
  {
   "cell_type": "markdown",
   "metadata": {},
   "source": [
    "# **Herencia**\n",
    "la herencia permite reutilizar metodos y no tener que volver a escribir el init, solo es necesesario escribir el init en casod e querer agregar mas elementos a la clase, en ese caso el initi se le agrega \n",
    "```python\n",
    "super.__init__(veriable1,veriable2,veriable3.......veriablen)\n",
    "``` \n",
    "para \"importar\" los atributos de la clase padre"
   ]
  },
  {
   "cell_type": "code",
   "execution_count": 9,
   "metadata": {},
   "outputs": [
    {
     "name": "stdout",
     "output_type": "stream",
     "text": [
      "hola soy humano\n",
      "hola soy programador\n",
      "yo programo en python\n"
     ]
    }
   ],
   "source": [
    "class humano():\n",
    "    def __init__(self,nombre,edad,genero):\n",
    "        self.nombre = nombre\n",
    "        self.edad = edad\n",
    "        self.genero = genero\n",
    "\n",
    "    def saludo(self):\n",
    "        print(\"hola soy humano\")\n",
    "        \n",
    "\n",
    "class programador(humano):\n",
    "    def __init__(self, nombre, edad, genero, lenguaje):\n",
    "        super().__init__(nombre, edad, genero)\n",
    "        self.lenguaje = lenguaje\n",
    "\n",
    "    def saludo2(self):\n",
    "        print(\"hola soy programador\")\n",
    "    \n",
    "    def accion(self):\n",
    "        print(f\"yo programo en {self.lenguaje}\")\n",
    "\n",
    "\n",
    "humano = humano(\"erensto\", 18, \"hombre\")\n",
    "humano.saludo()\n",
    "\n",
    "ernesto= programador(\"ernesto\",17,\"neto\", \"python\")\n",
    "ernesto.saludo2()\n",
    "ernesto.accion()"
   ]
  },
  {
   "cell_type": "markdown",
   "metadata": {},
   "source": [
    "## **EJERCICIO**"
   ]
  },
  {
   "cell_type": "code",
   "execution_count": 14,
   "metadata": {},
   "outputs": [
    {
     "name": "stdout",
     "output_type": "stream",
     "text": [
      "el animal pulpo tiene 6 patas, es color azul\n",
      "el animal perico tiene 2 patas, es color verde y su pico mide 5cm\n",
      "el animal beta tiene 0 patas, es color verde y mide 5cm\n",
      "el animal jirafa tiene 4 patas, es color cafe y le gusta comer plantas\n"
     ]
    }
   ],
   "source": [
    "class Animal():\n",
    "    def __init__(self, nombre, numpatas, color):\n",
    "        self.nombre = nombre\n",
    "        self.numpatas = numpatas\n",
    "        self.color = color\n",
    "\n",
    "    def descripcion(self):\n",
    "        return(f\"el animal {self.nombre} tiene {self.numpatas} patas, es color {self.color}\")\n",
    "\n",
    "class Avez(Animal):\n",
    "    def __init__(self, nombre, numpatas, color, pico):\n",
    "        super().__init__(nombre, numpatas, color)\n",
    "        self.pico = pico\n",
    "\n",
    "    def tamaño_pico(self):\n",
    "        #print(f\"hola soy un ave y mi pico mide {self.pico}\")\n",
    "        return(super().descripcion()+f\" y su pico mide {self.pico}cm\")\n",
    "\n",
    "\n",
    "class Peces(Animal):\n",
    "    def __init__(self, nombre, numpatas, color, tamaño):\n",
    "        super().__init__(nombre, numpatas, color)\n",
    "        self.tamaño = tamaño\n",
    "\n",
    "    def que_tamaño(self):\n",
    "        return(super().descripcion()+f\" y mide {self.tamaño}cm\")\n",
    "\n",
    "class Mamiferos(Animal):\n",
    "    def __init__(self, nombre, numpatas, color, comida):\n",
    "        super().__init__(nombre, numpatas, color)\n",
    "        self.comida = comida\n",
    "    \n",
    "    def que_come(self):\n",
    "        return(super().descripcion()+f\" y le gusta comer {self.comida}\")\n",
    " \n",
    "\n",
    "pulpo=Animal(\"pulpo\",6,\"azul\")\n",
    "Perico=Avez(\"perico\",2,\"verde\",5)\n",
    "Beta=Peces(\"beta\",0,\"verde\",5)\n",
    "jirafa=Mamiferos(\"jirafa\",4,\"cafe\",\"plantas\")\n",
    "\n",
    "\n",
    "print(pulpo.descripcion())\n",
    "print(Perico.tamaño_pico())\n",
    "print(Beta.que_tamaño())\n",
    "print(jirafa.que_come())\n"
   ]
  },
  {
   "cell_type": "markdown",
   "metadata": {},
   "source": [
    "## **diagrama de clases UML (Lenguaje unificado de modelado)**"
   ]
  },
  {
   "cell_type": "markdown",
   "metadata": {},
   "source": [
    " --------\n",
    " +=publico = se puede acceder de cualquier lugar\n",
    "\n",
    " #=protegido = solo se puede acceder desde la propia clase o una clase hija\n",
    "\n",
    " -=privado = se puede accder solo desde la propia clase\n",
    "\n",
    " ~=paquete = se puede acceder desde cualqier classe del mismo paque\n",
    "\n",
    "------\n",
    "\n",
    " asociación = linea recta lisa\n",
    "\n",
    " herencia = linea recta con felcha hueca en la punta\n",
    "\n",
    " agregacion/ = linea recta con robo hueco en el final\n",
    "\n",
    " composicion =linea recta con rombo relleno al final\n",
    "\n",
    " realizacion = felcha recta con intermitencia con una flecha hueca\n"
   ]
  },
  {
   "cell_type": "markdown",
   "metadata": {},
   "source": [
    "## **EJEMPLO DE CODIGO ANTERIOS CON DIAGRAMAS**"
   ]
  },
  {
   "cell_type": "markdown",
   "metadata": {},
   "source": [
    "### **DIAGRAMA UML:**"
   ]
  },
  {
   "cell_type": "markdown",
   "metadata": {},
   "source": [
    "\n",
    "![alt text](<diagrama animalitos-1.png>)"
   ]
  },
  {
   "cell_type": "markdown",
   "metadata": {},
   "source": [
    "### **CODIGO:**"
   ]
  },
  {
   "cell_type": "code",
   "execution_count": null,
   "metadata": {},
   "outputs": [
    {
     "name": "stdout",
     "output_type": "stream",
     "text": [
      "el animal pulpo tiene 6 patas, es color azul\n",
      "el animal perico tiene 2 patas, es color verde y su pico mide 5cm\n",
      "el animal beta tiene 0 patas, es color verde y mide 5cm\n",
      "el animal jirafa tiene 4 patas, es color cafe y le gusta comer plantas\n"
     ]
    }
   ],
   "source": [
    "class Animal():\n",
    "    def __init__(self, nombre, numpatas, color):\n",
    "        self.nombre = nombre\n",
    "        self.numpatas = numpatas\n",
    "        self.color = color\n",
    "\n",
    "    def descripcion(self):\n",
    "        return(f\"el animal {self.nombre} tiene {self.numpatas} patas, es color {self.color}\")\n",
    "\n",
    "class Avez(Animal):\n",
    "    def __init__(self, nombre, numpatas, color, pico):\n",
    "        super().__init__(nombre, numpatas, color)\n",
    "        self.pico = pico\n",
    "\n",
    "    def tamaño_pico(self):\n",
    "        #print(f\"hola soy un ave y mi pico mide {self.pico}\")\n",
    "        return(super().descripcion()+f\" y su pico mide {self.pico}cm\")\n",
    "\n",
    "\n",
    "class Peces(Animal):\n",
    "    def __init__(self, nombre, numpatas, color, tamaño):\n",
    "        super().__init__(nombre, numpatas, color)\n",
    "        self.tamaño = tamaño\n",
    "\n",
    "    def que_tamaño(self):\n",
    "        return(super().descripcion()+f\" y mide {self.tamaño}cm\")\n",
    "\n",
    "class Mamiferos(Animal):\n",
    "    def __init__(self, nombre, numpatas, color, comida):\n",
    "        super().__init__(nombre, numpatas, color)\n",
    "        self.comida = comida\n",
    "    \n",
    "    def que_come(self):\n",
    "        return(super().descripcion()+f\" y le gusta comer {self.comida}\")\n",
    " \n",
    "\n",
    "pulpo=Animal(\"pulpo\",6,\"azul\")\n",
    "Perico=Avez(\"perico\",2,\"verde\",5)\n",
    "Beta=Peces(\"beta\",0,\"verde\",5)\n",
    "jirafa=Mamiferos(\"jirafa\",4,\"cafe\",\"plantas\")\n",
    "\n",
    "\n",
    "print(pulpo.descripcion())\n",
    "print(Perico.tamaño_pico())\n",
    "print(Beta.que_tamaño())\n",
    "print(jirafa.que_come())\n"
   ]
  },
  {
   "cell_type": "markdown",
   "metadata": {},
   "source": [
    "## **EJERCICIO: SALA DE CINE**"
   ]
  },
  {
   "cell_type": "code",
   "execution_count": 6,
   "metadata": {},
   "outputs": [
    {
     "data": {
      "text/plain": [
       "'gaby'"
      ]
     },
     "execution_count": 6,
     "metadata": {},
     "output_type": "execute_result"
    }
   ],
   "source": [
    "class Persona():\n",
    "    listapersona=[]\n",
    "    def __init__(self, nombre, contacto):\n",
    "        self.nombre = nombre\n",
    "        self.contacto = contacto\n",
    "\n",
    "    def registro(self, per1):\n",
    "        return(listapersona.append(per1))\n",
    "\n",
    "    def Actualizar_nombre(self, nombreNuevo):\n",
    "        self.nombre = nombreNuevo\n",
    "        return(self.nombre)\n",
    "\n",
    "    def Actualizar_contacto(self, contactoNuevo):\n",
    "        self.contacto = contactoNuevo\n",
    "        return(self.contacto)\n",
    "\n",
    "\n",
    "Lucy=Persona(\"lucy\",\"correro@gmail.com\")\n",
    "Lucy.Actualizar_nombre(\"gaby\")\n",
    "\n",
    "\n",
    "\n",
    "\n",
    "\n",
    "\n",
    "\n",
    "\n",
    "\n",
    "\n",
    "\n",
    "\n",
    "\n",
    "\n"
   ]
  },
  {
   "cell_type": "code",
   "execution_count": null,
   "metadata": {},
   "outputs": [],
   "source": [
    "\n",
    "class Usuario(Persona):\n",
    "    def __init__(self, nombre, contacto, numreservas):\n",
    "        super().__init__(nombre, contacto)\n",
    "        self.numeroreservas = numreservas\n",
    "\n",
    "        def reserva(self)\n",
    "            \n",
    "        def cancelarreserva(self):\n",
    "\n",
    "        def acceder_promo(self)\n",
    "\n",
    "class Empleado(Persona):\n",
    "    def __init__(self, nombre, contacto, rol):\n",
    "        super().__init__(nombre, contacto)\n",
    "        self.rol = rol\n",
    "\n",
    "    def agregar_funcion(self):\n",
    "\n",
    "    def agregar_pelicula(self):\n",
    "\n",
    "    def agregar_promocion(self):\n",
    "\n",
    "class Espacio():\n",
    "    def __init__(self, tamaño, identificador):\n",
    "        self.tamaño = tamaño\n",
    "        self.identificador = identificador\n",
    "\n",
    "    def descripcion(self):\n",
    "        return(f\"la sala tiene el identifiacador {self.identificador} y mide {self.tamaño} m\")\n",
    "\n",
    "class Sala(Espacio):\n",
    "    def __init__(self, tamaño, identificador, tipo, disponibilidad):\n",
    "        super().__init__(tamaño, identificador)\n",
    "        self,tipo = tipo\n",
    "        self.disponibilidad = disponibilidad\n",
    "\n",
    "    def consultarDisponibilidad(self)\n",
    "\n",
    "class Reserva():\n",
    "    def __init__(self, usuario, funcion, asiento):\n",
    "        self.usuario = usuario\n",
    "        self.funcion = funcion \n",
    "        self.asiento=asiento\n",
    "\n",
    "    def confirmar_reserva(self):\n",
    "\n",
    "    def cancelar_reserva(self):\n",
    "\n",
    "\n",
    "class Funcion():\n",
    "    def __init__(self, hora, pelicula, sala):\n",
    "        self.hora = hora\n",
    "        self.pelicula = pelicula\n",
    "        self. sala = sala\n",
    "\n",
    "    def consultar_asientos():\n",
    "\n",
    "\n",
    "class Pelicula():\n",
    "    def __init__(self, titulo, duracion, clasificacion, genero):\n",
    "        self.titulo = titulo \n",
    "        self.duracion = duracion \n",
    "        self.clasificacion = clasificacion \n",
    "        self.genero = genero \n",
    "\n",
    "    def detalle_pelicula(self):\n",
    "        return(f\"titulo: {self.titulo} \\nDuraciion: {self.duracion} \\nclasificacion: {self.clasificacion} \\n Genero: {self.genero}\")\n",
    "    \n",
    "\n",
    "\n"
   ]
  }
 ],
 "metadata": {
  "kernelspec": {
   "display_name": "Python 3",
   "language": "python",
   "name": "python3"
  },
  "language_info": {
   "codemirror_mode": {
    "name": "ipython",
    "version": 3
   },
   "file_extension": ".py",
   "mimetype": "text/x-python",
   "name": "python",
   "nbconvert_exporter": "python",
   "pygments_lexer": "ipython3",
   "version": "3.13.1"
  }
 },
 "nbformat": 4,
 "nbformat_minor": 2
}
